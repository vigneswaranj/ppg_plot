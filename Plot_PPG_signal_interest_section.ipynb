{
 "cells": [
  {
   "cell_type": "markdown",
   "metadata": {},
   "source": [
    "# Plotting the PPG signal from Pulse Oximeter\n",
    "\n",
    "##### This notebook will plot the PPG signal from the log file created from Pulse Oximeter Data set.\n",
    "\n",
    "##### Being the visual component particularly important for a researcher, in order to extract knowledge from the acquired data. \n",
    "##### Plotting data brings another perspective to the researcher, stimulating the human sensorial component, which is ideal for identifying patterns and communicate."
   ]
  },
  {
   "cell_type": "code",
   "execution_count": 284,
   "metadata": {},
   "outputs": [],
   "source": [
    "#Import library modules\n",
    "import heartpy as hp\n",
    "import pandas as pd\n",
    "#import matplotlib.pyplot as plt\n",
    "import bqplot.pyplot as plt\n",
    "import numpy as np\n",
    "\n",
    "#Input the CSV file to the parser\n",
    "df = pd.read_csv('PPG_2020-10-24_19-28-38.csv')"
   ]
  },
  {
   "cell_type": "code",
   "execution_count": 285,
   "metadata": {},
   "outputs": [],
   "source": [
    "def compute_ac_dc(data_set):\n",
    "    data_min = np.min(data_set)\n",
    "    data_max = np.max(data_set)\n",
    "    ac_amplitude = data_max - data_min\n",
    "    ac_dc_ratio = (ac_amplitude*100.0)/data_min\n",
    "    print(\"AC Amplitude\\t: \" + str(ac_amplitude) + \"\\nDC Component\\t: \"+str(data_min)+ \"\\nAC/DC ratio\\t: \"+str(round(ac_dc_ratio,2)))"
   ]
  },
  {
   "cell_type": "markdown",
   "metadata": {},
   "source": [
    "### 1. Print CSV file header"
   ]
  },
  {
   "cell_type": "code",
   "execution_count": 286,
   "metadata": {},
   "outputs": [
    {
     "data": {
      "text/plain": [
       "Index([u'Time', u' Sample Count', u' IR Count', u' Red Count',\n",
       "       u' X Axis Acceleration', u' Y Axis Acceleration',\n",
       "       u' Z Axis Acceleration', u' Heart Rate', u' HR Confidence', u' RR',\n",
       "       u' SPO2', u' R Value', u' Algorithm Status'],\n",
       "      dtype='object')"
      ]
     },
     "execution_count": 286,
     "metadata": {},
     "output_type": "execute_result"
    }
   ],
   "source": [
    "#print the keys in the csv file\n",
    "df.keys()"
   ]
  },
  {
   "cell_type": "markdown",
   "metadata": {},
   "source": [
    "### 2. Plot the entire CSV file"
   ]
  },
  {
   "cell_type": "code",
   "execution_count": 287,
   "metadata": {},
   "outputs": [
    {
     "data": {
      "application/vnd.jupyter.widget-view+json": {
       "model_id": "cd03384bec5c4e1c93306dcc12458939",
       "version_major": 2,
       "version_minor": 0
      },
      "text/plain": [
       "VkJveChjaGlsZHJlbj0oRmlndXJlKGF4ZXM9W0F4aXMob3JpZW50YXRpb249J3ZlcnRpY2FsJywgc2NhbGU9TGluZWFyU2NhbGUoKSksIEF4aXMoc2NhbGU9TGluZWFyU2NhbGUoKSldLCBmaWfigKY=\n"
      ]
     },
     "metadata": {},
     "output_type": "display_data"
    }
   ],
   "source": [
    "#Visualise the PPG data in the Graph format\n",
    "plt.figure(figsize=(12,4))\n",
    "#plt.style.use('ggplot')\n",
    "#interesting_indices = np.argwhere(np.logical_and(x > 4, x < 9))\n",
    "interesting_indices = [200000, 201000]\n",
    "plt.plot(df[' IR Count'].values)\n",
    "plt.show()"
   ]
  },
  {
   "cell_type": "markdown",
   "metadata": {},
   "source": [
    "### 3. Plot the region between sample 1,86,000 and 2,30,000"
   ]
  },
  {
   "cell_type": "code",
   "execution_count": 288,
   "metadata": {},
   "outputs": [
    {
     "data": {
      "application/vnd.jupyter.widget-view+json": {
       "model_id": "719743b22b124befa74dd1a2bcb1d5f8",
       "version_major": 2,
       "version_minor": 0
      },
      "text/plain": [
       "VkJveChjaGlsZHJlbj0oRmlndXJlKGF4ZXM9W0F4aXMob3JpZW50YXRpb249J3ZlcnRpY2FsJywgc2NhbGU9TGluZWFyU2NhbGUoKSksIEF4aXMoc2NhbGU9TGluZWFyU2NhbGUoKSldLCBmaWfigKY=\n"
      ]
     },
     "metadata": {},
     "output_type": "display_data"
    }
   ],
   "source": [
    "#Visualise the PPG data in the Graph format\n",
    "plt.figure(figsize=(12,4))\n",
    "interesting_indices = np.argwhere(np.logical_and(df[' Sample Count'].values > 186000, df[' Sample Count'].values < 230000))\n",
    "\n",
    "plt.plot(df[' Sample Count'].values[interesting_indices], df[' IR Count'].values[interesting_indices] )\n",
    "plt.show()"
   ]
  },
  {
   "cell_type": "markdown",
   "metadata": {},
   "source": [
    "### 4. Plot the region between sample 2,00,000 and 2,01,000"
   ]
  },
  {
   "cell_type": "code",
   "execution_count": 289,
   "metadata": {},
   "outputs": [
    {
     "data": {
      "application/vnd.jupyter.widget-view+json": {
       "model_id": "d48ee06081ab483e880f860422c4c7e2",
       "version_major": 2,
       "version_minor": 0
      },
      "text/plain": [
       "VkJveChjaGlsZHJlbj0oRmlndXJlKGF4ZXM9W0F4aXMob3JpZW50YXRpb249J3ZlcnRpY2FsJywgc2NhbGU9TGluZWFyU2NhbGUoKSksIEF4aXMoc2NhbGU9TGluZWFyU2NhbGUoKSldLCBmaWfigKY=\n"
      ]
     },
     "metadata": {},
     "output_type": "display_data"
    },
    {
     "name": "stdout",
     "output_type": "stream",
     "text": [
      "AC Amplitude\t: 1074\n",
      "DC Component\t: 216662\n",
      "AC/DC ratio\t: 0.5\n"
     ]
    }
   ],
   "source": [
    "#Visualise the PPG data in the Graph format\n",
    "plt.figure(figsize=(12,4))\n",
    "interesting_indices = np.argwhere(np.logical_and(df[' Sample Count'].values > 200000, df[' Sample Count'].values < 201000))\n",
    "\n",
    "plt.plot(df[' Sample Count'].values[interesting_indices], df[' IR Count'].values[interesting_indices] )\n",
    "plt.show()\n",
    "compute_ac_dc(df[' IR Count'].values[interesting_indices])"
   ]
  },
  {
   "cell_type": "markdown",
   "metadata": {},
   "source": [
    "### 5. Plot the region between sample 2,00,000 and 2,04,000"
   ]
  },
  {
   "cell_type": "code",
   "execution_count": 290,
   "metadata": {},
   "outputs": [
    {
     "data": {
      "application/vnd.jupyter.widget-view+json": {
       "model_id": "fd2dd785350247db8542b1555bc45678",
       "version_major": 2,
       "version_minor": 0
      },
      "text/plain": [
       "VkJveChjaGlsZHJlbj0oRmlndXJlKGF4ZXM9W0F4aXMob3JpZW50YXRpb249J3ZlcnRpY2FsJywgc2NhbGU9TGluZWFyU2NhbGUoKSksIEF4aXMoc2NhbGU9TGluZWFyU2NhbGUoKSldLCBmaWfigKY=\n"
      ]
     },
     "metadata": {},
     "output_type": "display_data"
    }
   ],
   "source": [
    "#Visualise the PPG data in the Graph format\n",
    "plt.figure(figsize=(12,4))\n",
    "interesting_indices = np.argwhere(np.logical_and(df[' Sample Count'].values > 200000, df[' Sample Count'].values < 204000))\n",
    "\n",
    "plt.plot(df[' Sample Count'].values[interesting_indices], df[' IR Count'].values[interesting_indices] )\n",
    "plt.show()"
   ]
  },
  {
   "cell_type": "markdown",
   "metadata": {},
   "source": [
    "### 6. Plot the region between the samples 2,04,000 and 2,08,000"
   ]
  },
  {
   "cell_type": "code",
   "execution_count": 291,
   "metadata": {},
   "outputs": [
    {
     "data": {
      "application/vnd.jupyter.widget-view+json": {
       "model_id": "150d6d61b53c4bd6a0f4d6ffec3f9a22",
       "version_major": 2,
       "version_minor": 0
      },
      "text/plain": [
       "VkJveChjaGlsZHJlbj0oRmlndXJlKGF4ZXM9W0F4aXMob3JpZW50YXRpb249J3ZlcnRpY2FsJywgc2NhbGU9TGluZWFyU2NhbGUoKSksIEF4aXMoc2NhbGU9TGluZWFyU2NhbGUoKSldLCBmaWfigKY=\n"
      ]
     },
     "metadata": {},
     "output_type": "display_data"
    }
   ],
   "source": [
    "#Visualise the PPG data in the Graph format\n",
    "plt.figure(figsize=(12,4))\n",
    "interesting_indices = np.argwhere(np.logical_and(df[' Sample Count'].values > 204000, df[' Sample Count'].values < 208000))\n",
    "\n",
    "plt.plot(df[' Sample Count'].values[interesting_indices], df[' IR Count'].values[interesting_indices] )\n",
    "plt.show()"
   ]
  },
  {
   "cell_type": "markdown",
   "metadata": {},
   "source": [
    "### 7. Plot the region between the sample 2,08,000 and 2,12,000"
   ]
  },
  {
   "cell_type": "code",
   "execution_count": 292,
   "metadata": {},
   "outputs": [
    {
     "data": {
      "application/vnd.jupyter.widget-view+json": {
       "model_id": "e132702659764fd2a5f7bfafb9a428e5",
       "version_major": 2,
       "version_minor": 0
      },
      "text/plain": [
       "VkJveChjaGlsZHJlbj0oRmlndXJlKGF4ZXM9W0F4aXMob3JpZW50YXRpb249J3ZlcnRpY2FsJywgc2NhbGU9TGluZWFyU2NhbGUoKSksIEF4aXMoc2NhbGU9TGluZWFyU2NhbGUoKSldLCBmaWfigKY=\n"
      ]
     },
     "metadata": {},
     "output_type": "display_data"
    }
   ],
   "source": [
    "#Visualise the PPG data in the Graph format\n",
    "plt.figure(figsize=(12,4))\n",
    "interesting_indices = np.argwhere(np.logical_and(df[' Sample Count'].values > 208000, df[' Sample Count'].values < 212000))\n",
    "\n",
    "plt.plot(df[' Sample Count'].values[interesting_indices], df[' IR Count'].values[interesting_indices] )\n",
    "plt.show()"
   ]
  },
  {
   "cell_type": "markdown",
   "metadata": {},
   "source": [
    "### 8. Plot the region between the sample 2,12,000 and 2,16,000"
   ]
  },
  {
   "cell_type": "code",
   "execution_count": 293,
   "metadata": {},
   "outputs": [
    {
     "data": {
      "application/vnd.jupyter.widget-view+json": {
       "model_id": "ad4606598d1f48e8b08cb31362be941f",
       "version_major": 2,
       "version_minor": 0
      },
      "text/plain": [
       "VkJveChjaGlsZHJlbj0oRmlndXJlKGF4ZXM9W0F4aXMob3JpZW50YXRpb249J3ZlcnRpY2FsJywgc2NhbGU9TGluZWFyU2NhbGUoKSksIEF4aXMoc2NhbGU9TGluZWFyU2NhbGUoKSldLCBmaWfigKY=\n"
      ]
     },
     "metadata": {},
     "output_type": "display_data"
    }
   ],
   "source": [
    "#Visualise the PPG data in the Graph format\n",
    "plt.figure(figsize=(12,4))\n",
    "interesting_indices = np.argwhere(np.logical_and(df[' Sample Count'].values > 212000, df[' Sample Count'].values < 216000))\n",
    "\n",
    "plt.plot(df[' Sample Count'].values[interesting_indices], df[' IR Count'].values[interesting_indices] )\n",
    "plt.show()"
   ]
  },
  {
   "cell_type": "markdown",
   "metadata": {},
   "source": [
    "### 9. Plot the region between the sample 2,16,000 and 2,20,000"
   ]
  },
  {
   "cell_type": "code",
   "execution_count": 294,
   "metadata": {},
   "outputs": [
    {
     "data": {
      "application/vnd.jupyter.widget-view+json": {
       "model_id": "beb30740facc428f82846af6eb091e78",
       "version_major": 2,
       "version_minor": 0
      },
      "text/plain": [
       "VkJveChjaGlsZHJlbj0oRmlndXJlKGF4ZXM9W0F4aXMob3JpZW50YXRpb249J3ZlcnRpY2FsJywgc2NhbGU9TGluZWFyU2NhbGUoKSksIEF4aXMoc2NhbGU9TGluZWFyU2NhbGUoKSldLCBmaWfigKY=\n"
      ]
     },
     "metadata": {},
     "output_type": "display_data"
    }
   ],
   "source": [
    "#Visualise the PPG data in the Graph format\n",
    "plt.figure(figsize=(12,4))\n",
    "interesting_indices = np.argwhere(np.logical_and(df[' Sample Count'].values > 216000, df[' Sample Count'].values < 220000))\n",
    "\n",
    "plt.plot(df[' Sample Count'].values[interesting_indices], df[' IR Count'].values[interesting_indices] )\n",
    "plt.show()"
   ]
  },
  {
   "cell_type": "markdown",
   "metadata": {},
   "source": [
    "### 10. Plot the region between the sample 2,17,000 and 2,20,000"
   ]
  },
  {
   "cell_type": "code",
   "execution_count": 295,
   "metadata": {},
   "outputs": [
    {
     "data": {
      "application/vnd.jupyter.widget-view+json": {
       "model_id": "df43547c45004ee89cedb79ccce4b380",
       "version_major": 2,
       "version_minor": 0
      },
      "text/plain": [
       "VkJveChjaGlsZHJlbj0oRmlndXJlKGF4ZXM9W0F4aXMob3JpZW50YXRpb249J3ZlcnRpY2FsJywgc2NhbGU9TGluZWFyU2NhbGUoKSksIEF4aXMoc2NhbGU9TGluZWFyU2NhbGUoKSldLCBmaWfigKY=\n"
      ]
     },
     "metadata": {},
     "output_type": "display_data"
    }
   ],
   "source": [
    "#Visualise the PPG data in the Graph format\n",
    "plt.figure(figsize=(12,4))\n",
    "interesting_indices = np.argwhere(np.logical_and(df[' Sample Count'].values > 217000, df[' Sample Count'].values < 220000))\n",
    "\n",
    "plt.plot(df[' Sample Count'].values[interesting_indices], df[' IR Count'].values[interesting_indices] )\n",
    "plt.show()"
   ]
  },
  {
   "cell_type": "markdown",
   "metadata": {},
   "source": [
    "### 11. Plot the region between the sample 2,17,100 and 2,17,500"
   ]
  },
  {
   "cell_type": "code",
   "execution_count": 296,
   "metadata": {},
   "outputs": [
    {
     "data": {
      "application/vnd.jupyter.widget-view+json": {
       "model_id": "11c7f56d95584614886903514dc12e7f",
       "version_major": 2,
       "version_minor": 0
      },
      "text/plain": [
       "VkJveChjaGlsZHJlbj0oRmlndXJlKGF4ZXM9W0F4aXMob3JpZW50YXRpb249J3ZlcnRpY2FsJywgc2NhbGU9TGluZWFyU2NhbGUoKSksIEF4aXMoc2NhbGU9TGluZWFyU2NhbGUoKSldLCBmaWfigKY=\n"
      ]
     },
     "metadata": {},
     "output_type": "display_data"
    },
    {
     "name": "stdout",
     "output_type": "stream",
     "text": [
      "AC Amplitude\t: 3724\n",
      "DC Component\t: 227138\n",
      "AC/DC ratio\t: 1.64\n"
     ]
    }
   ],
   "source": [
    "#Visualise the PPG data in the Graph format\n",
    "plt.figure(figsize=(12,4))\n",
    "interesting_indices = np.argwhere(np.logical_and(df[' Sample Count'].values > 217100, df[' Sample Count'].values < 217500))\n",
    "\n",
    "plt.plot(df[' Sample Count'].values[interesting_indices], df[' IR Count'].values[interesting_indices] )\n",
    "plt.show()\n",
    "\n",
    "data_min = np.min(df[' IR Count'].values[interesting_indices])\n",
    "data_max = np.max(df[' IR Count'].values[interesting_indices])\n",
    "ac_amplitude = data_max - data_min\n",
    "ac_dc_ratio = (ac_amplitude*100.0)/data_min\n",
    "print(\"AC Amplitude\\t: \" + str(ac_amplitude) + \"\\nDC Component\\t: \"+str(data_min)+ \"\\nAC/DC ratio\\t: \"+str(round(ac_dc_ratio,2)))"
   ]
  },
  {
   "cell_type": "markdown",
   "metadata": {},
   "source": [
    "### 12. Plot the region between the sample 2,20,000 and 2,20,900"
   ]
  },
  {
   "cell_type": "code",
   "execution_count": 297,
   "metadata": {},
   "outputs": [
    {
     "name": "stdout",
     "output_type": "stream",
     "text": [
      "('Max Co-ordinate :', '220569', '230308')\n"
     ]
    },
    {
     "data": {
      "application/vnd.jupyter.widget-view+json": {
       "model_id": "05908bd28c6649ccbfd9714f1bedf254",
       "version_major": 2,
       "version_minor": 0
      },
      "text/plain": [
       "VkJveChjaGlsZHJlbj0oRmlndXJlKGF4ZXM9W0F4aXMob3JpZW50YXRpb249J3ZlcnRpY2FsJywgc2NhbGU9TGluZWFyU2NhbGUoKSksIEF4aXMoc2NhbGU9TGluZWFyU2NhbGUoKSldLCBmaWfigKY=\n"
      ]
     },
     "metadata": {},
     "output_type": "display_data"
    },
    {
     "name": "stdout",
     "output_type": "stream",
     "text": [
      "AC Amplitude\t: 3945\n",
      "DC Component\t: 226363\n",
      "AC/DC ratio\t: 1.74\n"
     ]
    }
   ],
   "source": [
    "#Visualise the PPG data in the Graph format\n",
    "plt.figure(figsize=(12,4))\n",
    "interesting_indices = np.argwhere(np.logical_and(df[' Sample Count'].values > 220000, df[' Sample Count'].values < 220900))\n",
    "\n",
    "plt.plot(df[' Sample Count'].values[interesting_indices], df[' IR Count'].values[interesting_indices] )\n",
    "#Print label on maximum value\n",
    "y_val = np.max(df[' IR Count'].values[interesting_indices])\n",
    "x_val = np.argmax(df[' IR Count'].values[interesting_indices])+220000\n",
    "print(\"Max Co-ordinate :\", str(x_val),str(y_val))\n",
    "label = plt.label(['MAX'], y=[y_val], x=[x_val],colors=['orange'])\n",
    "plt.show()\n",
    "compute_ac_dc(df[' IR Count'].values[interesting_indices])\n",
    " \n"
   ]
  },
  {
   "cell_type": "code",
   "execution_count": 298,
   "metadata": {},
   "outputs": [
    {
     "data": {
      "image/png": "[encoded data removed]",
      "text/plain": [
       "<Figure size 432x288 with 1 Axes>"
      ]
     },
     "metadata": {},
     "output_type": "display_data"
    }
   ],
   "source": [
    "%matplotlib inline\n",
    "import matplotlib.pyplot as plt\n",
    "import seaborn; seaborn.set()  # set plot style\n",
    "\n",
    "plt.hist(df[' IR Count'].values[interesting_indices])\n",
    "plt.title('Peak Computation')\n",
    "plt.xlabel('IR Count')\n",
    "plt.ylabel('number');"
   ]
  },
  {
   "cell_type": "markdown",
   "metadata": {},
   "source": [
    "### 13. Print the python libraries used in the notebook"
   ]
  },
  {
   "cell_type": "code",
   "execution_count": 299,
   "metadata": {},
   "outputs": [
    {
     "name": "stdout",
     "output_type": "stream",
     "text": [
      "The watermark extension is already loaded. To reload it, use:\n",
      "  %reload_ext watermark\n",
      "CPython 2.7.16\n",
      "IPython 5.8.0\n",
      "\n",
      "heartpy 1.2.6\n",
      "pandas 0.24.2\n",
      "matplotlib 2.2.3\n",
      "numpy 1.16.2\n",
      "\n",
      "compiler   : MSC v.1500 64 bit (AMD64)\n",
      "system     : Windows\n",
      "release    : 10\n",
      "machine    : AMD64\n",
      "processor  : Intel64 Family 6 Model 78 Stepping 3, GenuineIntel\n",
      "CPU cores  : 4\n",
      "interpreter: 64bit\n",
      " \n",
      "last updated: Sat Nov 07 2020 19:59:04 India Standard Time\n"
     ]
    }
   ],
   "source": [
    "%load_ext watermark\n",
    "\n",
    "%watermark -v -m -p heartpy,pandas,matplotlib,numpy\n",
    "\n",
    "print (\" \")\n",
    "%watermark -u -n -t -z"
   ]
  },
  {
   "cell_type": "markdown",
   "metadata": {},
   "source": [
    "#### In a scientific research, graphical representations of collected data or time-series describing the evolution of extracted parameters is essential to achieve a better knowledge of the phenomenon under analysis, considering that a graphical plot is much more intuitive than raw numerical data."
   ]
  }
 ],
 "metadata": {
  "kernelspec": {
   "display_name": "Python 2",
   "language": "python",
   "name": "python2"
  },
  "language_info": {
   "codemirror_mode": {
    "name": "ipython",
    "version": 2
   },
   "file_extension": ".py",
   "mimetype": "text/x-python",
   "name": "python",
   "nbconvert_exporter": "python",
   "pygments_lexer": "ipython2",
   "version": "2.7.16"
  }
 },
 "nbformat": 4,
 "nbformat_minor": 2
}
